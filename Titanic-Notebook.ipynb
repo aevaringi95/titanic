{
 "cells": [
  {
   "cell_type": "markdown",
   "metadata": {},
   "source": [
    "# Titanic\n",
    "\n",
    "In this notebook we predict survival for passengers from the titanic data available here:\n",
    "https://www.kaggle.com/competitions/titanic/data\n",
    "\n",
    "\n",
    "First we read in the data and do some data exploration. Then we fit the model with different algorithms and get multiple predictions.\n",
    "\n",
    "\n",
    "\n",
    "\n",
    "\n",
    "- Is it best to combine the dataframes and create new features from them? No can't do that because this is unseen data. Want to create a pipeline that you can just put the test dataset through without having to change anything.\n",
    "\n",
    "\n",
    "\n",
    "\n",
    "\n"
   ]
  },
  {
   "cell_type": "code",
   "execution_count": 1,
   "metadata": {},
   "outputs": [],
   "source": [
    "# Import libraries\n",
    "import pandas as pd\n",
    "import numpy as np\n",
    "import seaborn as sns\n",
    "import matplotlib.pyplot as plt\n",
    "\n",
    "# machine learning\n",
    "from sklearn.linear_model import LogisticRegression\n",
    "from sklearn.svm import SVC, LinearSVC\n",
    "from sklearn.ensemble import RandomForestClassifier\n",
    "from sklearn.neighbors import KNeighborsClassifier\n",
    "from sklearn.naive_bayes import GaussianNB\n",
    "from sklearn.linear_model import Perceptron\n",
    "from sklearn.linear_model import SGDClassifier\n",
    "from sklearn.tree import DecisionTreeClassifier"
   ]
  },
  {
   "cell_type": "code",
   "execution_count": 2,
   "metadata": {},
   "outputs": [],
   "source": [
    "# Read in data\n",
    "train = pd.read_csv(\"data/train.csv\")\n",
    "test = pd.read_csv(\"data/test.csv\")\n",
    "\n",
    "# Set together to loop through when doing data wrangling\n",
    "# Certain that both datasets will go through the same preprocessing steps\n",
    "datasets = [train,test]"
   ]
  },
  {
   "cell_type": "markdown",
   "metadata": {},
   "source": [
    "As we can see from the above code the train set and test set have all the same columns except Survived is missing for the test set"
   ]
  },
  {
   "cell_type": "code",
   "execution_count": 3,
   "metadata": {},
   "outputs": [
    {
     "name": "stdout",
     "output_type": "stream",
     "text": [
      "Index(['PassengerId', 'Survived', 'Pclass', 'Name', 'Sex', 'Age', 'SibSp',\n",
      "       'Parch', 'Ticket', 'Fare', 'Cabin', 'Embarked'],\n",
      "      dtype='object')\n",
      "PassengerId      int64\n",
      "Survived         int64\n",
      "Pclass           int64\n",
      "Name            object\n",
      "Sex             object\n",
      "Age            float64\n",
      "SibSp            int64\n",
      "Parch            int64\n",
      "Ticket          object\n",
      "Fare           float64\n",
      "Cabin           object\n",
      "Embarked        object\n",
      "dtype: object\n"
     ]
    }
   ],
   "source": [
    "# Print column names and datatypes\n",
    "print(train.columns)\n",
    "print(train.dtypes)"
   ]
  },
  {
   "cell_type": "markdown",
   "metadata": {},
   "source": [
    "Here is the description of the columns above.\n",
    "\n",
    "> - `PassengerId`: Is a specific PassangerId and is coded as int. Unique for each passanger. \n",
    "> - `Survived`: Is our response variable and is coded as 1 (survived) and 0 for not survived.\n",
    "> - `Pclass`: Is the passanger class 1st class, 2nd class or 3rd class. Coded as int.\n",
    "> - `Name`: Is the name of the passenger, coded as a string.\n",
    "> - `Sex`: Is the gender of the passenger. Represented as male/female\n",
    "> - `Age`: Is the age of the passenger, represented as float.\n",
    "> - `SibSp`: Number of siblings or spouses on the titanic\n",
    "> - `Parch`: Number of parents or children aboard the titanic.\n",
    "> - `Ticket`: Ticket number. Probably irrelevant.\n",
    "> - `Fare`: Passanger fare. Float\n",
    "> - `Cabin`: Cabin number\n",
    "> - `Embarked`: Port of Embarkation, C = Cherbourg, Q = Queenstown, S = Southampton\n",
    "\n",
    "We decide to drop PassengerId, Name, Ticket number and cabin number.\n",
    "\n",
    "\n",
    "\n",
    "\n",
    "- We assume that children have a higher survival probability \n",
    "- We assume that females have a higher survival probability\n",
    "- We assume that passenger class (1st class) has a higher survival probability\n"
   ]
  },
  {
   "cell_type": "code",
   "execution_count": 4,
   "metadata": {},
   "outputs": [],
   "source": [
    "drop_columns = ['Name','Ticket','Cabin']\n",
    "train.drop(drop_columns, axis=1, inplace=True)\n",
    "test.drop(drop_columns, axis=1, inplace=True)\n",
    "\n",
    "# Set together to loop through when doing data wrangling\n",
    "datasets = [train,test]"
   ]
  },
  {
   "cell_type": "code",
   "execution_count": 5,
   "metadata": {},
   "outputs": [
    {
     "data": {
      "text/plain": [
       "PassengerId      int64\n",
       "Survived         int64\n",
       "Pclass           int64\n",
       "Sex             object\n",
       "Age            float64\n",
       "SibSp            int64\n",
       "Parch            int64\n",
       "Fare           float64\n",
       "Embarked        object\n",
       "dtype: object"
      ]
     },
     "execution_count": 5,
     "metadata": {},
     "output_type": "execute_result"
    }
   ],
   "source": [
    "train.dtypes"
   ]
  },
  {
   "cell_type": "markdown",
   "metadata": {},
   "source": [
    "----------------------------------------------------------------------------------------------------------------------------"
   ]
  },
  {
   "cell_type": "markdown",
   "metadata": {},
   "source": [
    "# Data Exploration"
   ]
  },
  {
   "cell_type": "code",
   "execution_count": 6,
   "metadata": {},
   "outputs": [
    {
     "name": "stdout",
     "output_type": "stream",
     "text": [
      "PassengerId    False\n",
      "Survived       False\n",
      "Pclass         False\n",
      "Sex            False\n",
      "Age             True\n",
      "SibSp          False\n",
      "Parch          False\n",
      "Fare           False\n",
      "Embarked        True\n",
      "dtype: bool\n",
      "PassengerId    False\n",
      "Pclass         False\n",
      "Sex            False\n",
      "Age             True\n",
      "SibSp          False\n",
      "Parch          False\n",
      "Fare            True\n",
      "Embarked       False\n",
      "dtype: bool\n"
     ]
    }
   ],
   "source": [
    "# Check for columns with missing values\n",
    "print(train.isnull().any())\n",
    "print(test.isnull().any())"
   ]
  },
  {
   "cell_type": "code",
   "execution_count": 7,
   "metadata": {},
   "outputs": [
    {
     "name": "stdout",
     "output_type": "stream",
     "text": [
      "Number of NA values in Age column for train: 177\n",
      "Number of NA values in Embarked column for train: 2\n",
      "Number of NA values in Age column for test: 86\n",
      "Number of NA values in Fare column for test: 1\n"
     ]
    }
   ],
   "source": [
    "print(f\"Number of NA values in Age column for train: {train['Age'].isna().sum()}\")\n",
    "print(f\"Number of NA values in Embarked column for train: {train['Embarked'].isna().sum()}\")\n",
    "\n",
    "print(f\"Number of NA values in Age column for test: {test['Age'].isna().sum()}\")\n",
    "print(f\"Number of NA values in Fare column for test: {test['Fare'].isna().sum()}\")"
   ]
  },
  {
   "cell_type": "markdown",
   "metadata": {},
   "source": [
    "## SEX\n",
    "\n",
    "Here below we can clearly see that females were much more likely to survive"
   ]
  },
  {
   "cell_type": "code",
   "execution_count": 8,
   "metadata": {},
   "outputs": [
    {
     "data": {
      "image/png": "[encoded data removed]",
      "text/plain": [
       "<Figure size 720x432 with 1 Axes>"
      ]
     },
     "metadata": {},
     "output_type": "display_data"
    }
   ],
   "source": [
    "# Set the theme and create the figure\n",
    "sns.set_theme(style=\"darkgrid\")\n",
    "sns.set(rc={'figure.figsize': (10, 6)}) \n",
    "\n",
    "# Add the figure and a title\n",
    "ax = sns.countplot(data=train, x=\"Survived\",hue=\"Sex\")\n",
    "plt.title(\"Survived or not\")\n",
    "plt.show()"
   ]
  },
  {
   "cell_type": "markdown",
   "metadata": {},
   "source": [
    "## Pclass\n",
    "\n",
    "Here below we can also see that being on first class was clearly an indication on survival."
   ]
  },
  {
   "cell_type": "code",
   "execution_count": 9,
   "metadata": {},
   "outputs": [
    {
     "data": {
      "image/png": "[encoded data removed]",
      "text/plain": [
       "<Figure size 720x432 with 1 Axes>"
      ]
     },
     "metadata": {},
     "output_type": "display_data"
    }
   ],
   "source": [
    "# Add the figure and a title\n",
    "ax = sns.countplot(data=train, x=\"Survived\",hue=\"Pclass\")\n",
    "plt.title(\"Survived or not\")\n",
    "plt.show()"
   ]
  },
  {
   "cell_type": "markdown",
   "metadata": {},
   "source": [
    "## Age\n",
    "\n",
    "We can see below that young children were clearly more likely to be saved. "
   ]
  },
  {
   "cell_type": "code",
   "execution_count": 10,
   "metadata": {},
   "outputs": [
    {
     "data": {
      "text/plain": [
       "<seaborn.axisgrid.FacetGrid at 0x7f7fb8c7bbe0>"
      ]
     },
     "execution_count": 10,
     "metadata": {},
     "output_type": "execute_result"
    },
    {
     "data": {
      "image/png": "[encoded data removed]",
      "text/plain": [
       "<Figure size 432x216 with 2 Axes>"
      ]
     },
     "metadata": {},
     "output_type": "display_data"
    }
   ],
   "source": [
    "# Plot the distribution of age for survived and not survived\n",
    "g = sns.FacetGrid(train, col='Survived')\n",
    "g.map(plt.hist, 'Age', bins=20)"
   ]
  },
  {
   "cell_type": "code",
   "execution_count": 11,
   "metadata": {},
   "outputs": [
    {
     "data": {
      "image/png": "[encoded data removed]",
      "text/plain": [
       "<Figure size 515.68x475.2 with 6 Axes>"
      ]
     },
     "metadata": {},
     "output_type": "display_data"
    }
   ],
   "source": [
    "# grid = sns.FacetGrid(train_df, col='Pclass', hue='Survived')\n",
    "grid = sns.FacetGrid(train, col='Survived', row='Pclass', height=2.2, aspect=1.6)\n",
    "grid.map(plt.hist, 'Age', alpha=.5, bins=20)\n",
    "grid.add_legend();"
   ]
  },
  {
   "cell_type": "markdown",
   "metadata": {},
   "source": [
    "## Embarked\n",
    "\n",
    "Here we see that most of the passengers came from S but there is clearly a difference between where people were coming from\n",
    "However that could be included in another variable."
   ]
  },
  {
   "cell_type": "code",
   "execution_count": 12,
   "metadata": {},
   "outputs": [
    {
     "data": {
      "text/plain": [
       "<AxesSubplot:xlabel='Embarked', ylabel='count'>"
      ]
     },
     "execution_count": 12,
     "metadata": {},
     "output_type": "execute_result"
    },
    {
     "data": {
      "image/png": "[encoded data removed]",
      "text/plain": [
       "<Figure size 720x432 with 1 Axes>"
      ]
     },
     "metadata": {},
     "output_type": "display_data"
    }
   ],
   "source": [
    "sns.countplot(data=train, x=\"Embarked\", hue=\"Survived\")"
   ]
  },
  {
   "cell_type": "markdown",
   "metadata": {},
   "source": [
    "## SibSp\n",
    "\n",
    "Having a sibling or a spouse on the titanic was definetely an indication that you were more likely to be saved.\n",
    "Could create a binary variable here.\n"
   ]
  },
  {
   "cell_type": "code",
   "execution_count": 13,
   "metadata": {},
   "outputs": [
    {
     "data": {
      "text/plain": [
       "<AxesSubplot:xlabel='SibSp', ylabel='count'>"
      ]
     },
     "execution_count": 13,
     "metadata": {},
     "output_type": "execute_result"
    },
    {
     "data": {
      "image/png": "[encoded data removed]",
      "text/plain": [
       "<Figure size 720x432 with 1 Axes>"
      ]
     },
     "metadata": {},
     "output_type": "display_data"
    }
   ],
   "source": [
    "sns.countplot(data=train, x=\"SibSp\", hue=\"Survived\")"
   ]
  },
  {
   "cell_type": "markdown",
   "metadata": {},
   "source": [
    "## Parch\n",
    "\n",
    "Number of parents or children aboard the titanic."
   ]
  },
  {
   "cell_type": "code",
   "execution_count": 14,
   "metadata": {},
   "outputs": [
    {
     "data": {
      "text/plain": [
       "<AxesSubplot:xlabel='Parch', ylabel='count'>"
      ]
     },
     "execution_count": 14,
     "metadata": {},
     "output_type": "execute_result"
    },
    {
     "data": {
      "image/png": "[encoded data removed]",
      "text/plain": [
       "<Figure size 720x432 with 1 Axes>"
      ]
     },
     "metadata": {},
     "output_type": "display_data"
    }
   ],
   "source": [
    "sns.countplot(data=train, x=\"Parch\", hue=\"Survived\")"
   ]
  },
  {
   "cell_type": "markdown",
   "metadata": {},
   "source": [
    "# Data wrangling\n",
    "\n",
    "\n",
    "Here we start working with our data. \n",
    "\n",
    "Objectives: \n",
    "\n",
    "- [x] Input missing values for Age\n",
    "- [x] Input missing values for Embarked\n",
    "- [x] Input missing values for Fare\n",
    "- [x] Sex variable as numeric (created isMale (1/0))\n",
    "- [x] Embarked as categorical\n",
    "- [x] Create isAlone from SibSp and Parch as a binary 1/0\n",
    "\n",
    "\n",
    "\n",
    "#### Missing values\n",
    "- Age: Missing values for the age variable we use the median age based on other correlated variables (Sex and Pclass).+\n",
    "- Embarked: Missing values for the Embarked variable were inputed with the mode (Most frequent category) from the training set.\n",
    "- Fare: Missing values for the Fare variable were inputed with the median from the training set.\n",
    "\n"
   ]
  },
  {
   "cell_type": "code",
   "execution_count": 16,
   "metadata": {},
   "outputs": [],
   "source": [
    "# Input missing values for Age\n",
    "\n",
    "# Compute the unique values for sex and Pclass\n",
    "Sex_val = train['Sex'].unique()\n",
    "Pclass_val = train['Pclass'].unique()\n",
    "\n",
    "\n",
    "for dataset in datasets:\n",
    "    # Loop through values for sex and class\n",
    "    for sex in Sex_val:\n",
    "        for Class in Pclass_val:\n",
    "\n",
    "            # Compute the median age for the classification of sex and pclass\n",
    "            median_age = train[(train['Sex'] == sex) & \\\n",
    "                                      (train['Pclass'] == Class)]['Age'].dropna().median()\n",
    "\n",
    "            # Assign the median value for each of them\n",
    "            dataset.loc[(dataset.Age.isnull()) & (dataset.Sex == sex) & (dataset.Pclass == Class),\\\n",
    "                        'Age'] = median_age\n",
    "        \n",
    "    # Embarked column\n",
    "    # Assign the mode value from the train set\n",
    "    dataset.loc[(dataset.Embarked.isnull()),'Embarked'] = train['Embarked'].mode()[0]   \n",
    "    \n",
    "    # Fare column\n",
    "    # Assign the median fare value to the missing values\n",
    "    dataset.loc[(dataset.Fare.isnull()),'Fare'] = train['Fare'].median()\n",
    "        \n"
   ]
  },
  {
   "cell_type": "code",
   "execution_count": 17,
   "metadata": {},
   "outputs": [],
   "source": [
    "# Loop through both train and test and create the isAlone, isMale, isS and isQ variable\n",
    "for dataset in datasets:\n",
    "    dataset['isAlone'] = np.where((dataset['Parch'] == 0) & (dataset['SibSp'] == 0), 1,0)\n",
    "    dataset['isMale'] = np.where((dataset['Sex'] == 'male'), 1,0)\n",
    "    dataset['isChild'] = np.where((dataset['Age'] <= 18), 1,0)\n",
    "    dataset['isS'] = np.where((dataset['Embarked'] == 'S'), 1,0)\n",
    "    dataset['isQ'] = np.where((dataset['Embarked'] == 'Q'), 1,0)"
   ]
  },
  {
   "cell_type": "code",
   "execution_count": 18,
   "metadata": {},
   "outputs": [],
   "source": [
    "# Create a ordinal variable from Fare\n",
    "train['FareBand'] = pd.qcut(train['Fare'], 4)\n",
    "train[['FareBand', 'Survived']].groupby(['FareBand'], as_index=False).mean().sort_values(by='FareBand', ascending=True)\n",
    "\n",
    "\n",
    "for dataset in datasets:\n",
    "    dataset.loc[dataset['Fare'] <= 7.91, 'Fare'] = 0\n",
    "    dataset.loc[(dataset['Fare'] > 7.91) & (dataset['Fare'] <= 14.454), 'Fare'] = 1\n",
    "    dataset.loc[(dataset['Fare'] > 14.454) & (dataset['Fare'] <= 31), 'Fare']   = 2\n",
    "    dataset.loc[ dataset['Fare'] > 31, 'Fare'] = 3\n",
    "    dataset['Fare'] = dataset['Fare'].astype(int)"
   ]
  },
  {
   "cell_type": "markdown",
   "metadata": {},
   "source": [
    "# Model fitting\n",
    "\n",
    "\n",
    "Here we want to fit the models:\n",
    "\n",
    "- [ ] Logistic Regression\n",
    "\n"
   ]
  },
  {
   "cell_type": "code",
   "execution_count": 19,
   "metadata": {},
   "outputs": [
    {
     "data": {
      "text/plain": [
       "((891, 6), (891,), (418, 6))"
      ]
     },
     "execution_count": 19,
     "metadata": {},
     "output_type": "execute_result"
    }
   ],
   "source": [
    "X_train = train[['isMale','isAlone','isChild','isS','isQ','Fare']]\n",
    "Y_train = train['Survived']\n",
    "X_test  = test[['isMale','isAlone','isChild','isS','isQ','Fare']]\n",
    "X_train.shape, Y_train.shape, X_test.shape"
   ]
  },
  {
   "cell_type": "markdown",
   "metadata": {},
   "source": [
    "#### Logistic regression"
   ]
  },
  {
   "cell_type": "code",
   "execution_count": 20,
   "metadata": {},
   "outputs": [
    {
     "name": "stdout",
     "output_type": "stream",
     "text": [
      "Accuracy for Logistic Regression: 78.11\n"
     ]
    }
   ],
   "source": [
    "\n",
    "# Create a logistic regression model\n",
    "logreg = LogisticRegression()\n",
    "# Fit the model\n",
    "logreg.fit(X_train, Y_train)\n",
    "\n",
    "acc_log = round(logreg.score(X_train, Y_train) * 100, 2)\n",
    "\n",
    "print(f'Accuracy for Logistic Regression: {acc_log}')\n",
    "\n"
   ]
  },
  {
   "cell_type": "code",
   "execution_count": 23,
   "metadata": {},
   "outputs": [
    {
     "data": {
      "text/html": [
       "<div>\n",
       "<style scoped>\n",
       "    .dataframe tbody tr th:only-of-type {\n",
       "        vertical-align: middle;\n",
       "    }\n",
       "\n",
       "    .dataframe tbody tr th {\n",
       "        vertical-align: top;\n",
       "    }\n",
       "\n",
       "    .dataframe thead th {\n",
       "        text-align: right;\n",
       "    }\n",
       "</style>\n",
       "<table border=\"1\" class=\"dataframe\">\n",
       "  <thead>\n",
       "    <tr style=\"text-align: right;\">\n",
       "      <th></th>\n",
       "      <th>Feature</th>\n",
       "      <th>Correlation</th>\n",
       "    </tr>\n",
       "  </thead>\n",
       "  <tbody>\n",
       "    <tr>\n",
       "      <th>1</th>\n",
       "      <td>isChild</td>\n",
       "      <td>0.473220</td>\n",
       "    </tr>\n",
       "    <tr>\n",
       "      <th>2</th>\n",
       "      <td>isS</td>\n",
       "      <td>0.334791</td>\n",
       "    </tr>\n",
       "    <tr>\n",
       "      <th>4</th>\n",
       "      <td>Fare</td>\n",
       "      <td>-0.353436</td>\n",
       "    </tr>\n",
       "    <tr>\n",
       "      <th>3</th>\n",
       "      <td>isQ</td>\n",
       "      <td>-0.675134</td>\n",
       "    </tr>\n",
       "    <tr>\n",
       "      <th>0</th>\n",
       "      <td>isAlone</td>\n",
       "      <td>-2.379479</td>\n",
       "    </tr>\n",
       "  </tbody>\n",
       "</table>\n",
       "</div>"
      ],
      "text/plain": [
       "   Feature  Correlation\n",
       "1  isChild     0.473220\n",
       "2      isS     0.334791\n",
       "4     Fare    -0.353436\n",
       "3      isQ    -0.675134\n",
       "0  isAlone    -2.379479"
      ]
     },
     "execution_count": 23,
     "metadata": {},
     "output_type": "execute_result"
    }
   ],
   "source": [
    "# Here we want to see the coefficients of the logistic regression model.\n",
    "\n",
    "coeff_df = pd.DataFrame(train[['isMale','isAlone','isChild','isS','isQ','Fare']].columns.delete(0))\n",
    "coeff_df.columns = ['Feature']\n",
    "coeff_df[\"Correlation\"] = pd.Series(logreg.coef_[0])\n",
    "\n",
    "coeff_df.sort_values(by='Correlation', ascending=False)"
   ]
  },
  {
   "cell_type": "code",
   "execution_count": 26,
   "metadata": {},
   "outputs": [],
   "source": [
    "# Here we want to write our predictions down and upload to kaggle\n",
    "\n",
    "Y_pred = logreg.predict(X_test)\n",
    "\n",
    "# Create a dataframe that includes the passangerID and the predictions from the logistic regression model\n",
    "submission = pd.DataFrame({\n",
    "        \"PassengerId\": test[\"PassengerId\"],\n",
    "        \"Survived\": Y_pred\n",
    "    })\n",
    "submission.to_csv('submission.csv', index=False)\n"
   ]
  },
  {
   "cell_type": "markdown",
   "metadata": {},
   "source": [
    "Submission for this file gave 0.75 accuracy in the competition"
   ]
  },
  {
   "cell_type": "markdown",
   "metadata": {},
   "source": [
    "#### Random Forest"
   ]
  },
  {
   "cell_type": "code",
   "execution_count": 33,
   "metadata": {},
   "outputs": [
    {
     "name": "stdout",
     "output_type": "stream",
     "text": [
      "Accuracy for Random Forest: 80.47\n"
     ]
    }
   ],
   "source": [
    "# Fit a random forest classifier\n",
    "rfClass = RandomForestClassifier(,n_estimators = 1000,random_state=0)\n",
    "rfClass.fit(X_train, Y_train)\n",
    "\n",
    "# Compute the score\n",
    "acc_rf = round(rfClass.score(X_train, Y_train) * 100, 2)\n",
    "\n",
    "print(f'Accuracy for Random Forest: {acc_rf}')\n",
    "\n",
    "Y_pred_rf = rfClass.predict(X_test)\n",
    "\n",
    "submission = pd.DataFrame({\n",
    "        \"PassengerId\": test[\"PassengerId\"],\n",
    "        \"Survived\": Y_pred_rf\n",
    "    })\n",
    "submission.to_csv('submission.csv', index=False)"
   ]
  },
  {
   "cell_type": "markdown",
   "metadata": {},
   "source": [
    "Submisson for this file gave 0.75598 accuracy, slightly better than logistic regression."
   ]
  },
  {
   "cell_type": "code",
   "execution_count": null,
   "metadata": {},
   "outputs": [],
   "source": []
  }
 ],
 "metadata": {
  "kernelspec": {
   "display_name": "Python 3 (ipykernel)",
   "language": "python",
   "name": "python3"
  },
  "language_info": {
   "codemirror_mode": {
    "name": "ipython",
    "version": 3
   },
   "file_extension": ".py",
   "mimetype": "text/x-python",
   "name": "python",
   "nbconvert_exporter": "python",
   "pygments_lexer": "ipython3",
   "version": "3.8.12"
  }
 },
 "nbformat": 4,
 "nbformat_minor": 2
}
